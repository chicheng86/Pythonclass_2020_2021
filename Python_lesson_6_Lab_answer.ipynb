{
 "cells": [
  {
   "cell_type": "code",
   "execution_count": 3,
   "metadata": {},
   "outputs": [
    {
     "name": "stdout",
     "output_type": "stream",
     "text": [
      "what was the total?100\n",
      "what percentage is the tip?15\n",
      "how many people are sharing the bill?4\n",
      "0.15\n",
      "15.0\n",
      "$ 28.75\n"
     ]
    }
   ],
   "source": [
    "total=input('what was the total?')\n",
    "total=int(total)\n",
    "tip=input('what percentage is the tip?')\n",
    "tip=int(tip)\n",
    "people=input('how many people are sharing the bill?')\n",
    "people=int(people)\n",
    "tipAmount=tip*0.01\n",
    "tipAmount=float(tipAmount)\n",
    "print(tipAmount)\n",
    "#finaltotal=(total+(total*tipAmount))/people\n",
    "tipincash=total*tipAmount\n",
    "print(tipincash)\n",
    "finaltotal=(total+tipincash)/people\n",
    "\n",
    "print (\"$\" , finaltotal)"
   ]
  },
  {
   "cell_type": "code",
   "execution_count": 5,
   "metadata": {},
   "outputs": [
    {
     "name": "stdout",
     "output_type": "stream",
     "text": [
      "what was the total?100\n",
      "what percentage is the tip?25\n",
      "how many people are sharing the bill?4\n",
      "25.0\n",
      "$ 31.25\n"
     ]
    }
   ],
   "source": [
    "def tip_calculator():\n",
    "    total=input('what was the total?')\n",
    "    total=int(total)\n",
    "    tip=input('what percentage is the tip?')\n",
    "    tip=int(tip)\n",
    "    people=input('how many people are sharing the bill?')\n",
    "    people=int(people)\n",
    "    tipAmount=tip*0.01\n",
    "    tipAmount=float(tipAmount)\n",
    "    #print(tipAmount)\n",
    "    #finaltotal=(total+(total*tipAmount))/people\n",
    "    tipincash=total*tipAmount\n",
    "    print(tipincash)\n",
    "    finaltotal=(total+tipincash)/people\n",
    "    print (\"$\" , finaltotal)\n",
    "tip_calculator()    "
   ]
  },
  {
   "cell_type": "code",
   "execution_count": 6,
   "metadata": {},
   "outputs": [
    {
     "name": "stdout",
     "output_type": "stream",
     "text": [
      "what was the total?100\n",
      "what percentage is the tip?25\n",
      "how many people are sharing the bill?4\n",
      "0.25\n",
      "25.0\n",
      "$ 31.25\n"
     ]
    }
   ],
   "source": [
    "total=input('what was the total?')\n",
    "total=int(total)\n",
    "tip=input('what percentage is the tip?')\n",
    "tip=int(tip)\n",
    "people=input('how many people are sharing the bill?')\n",
    "people=int(people)\n",
    "def tip_calculator_2(total, tip,people):\n",
    "    tipAmount=tip*0.01\n",
    "    tipAmount=float(tipAmount)\n",
    "    print(tipAmount)\n",
    "    #finaltotal=(total+(total*tipAmount))/people\n",
    "    tipincash=total*tipAmount\n",
    "    print(tipincash)\n",
    "    finaltotal=(total+tipincash)/people\n",
    "    print (\"$\" , finaltotal)\n",
    "tip_calculator_2(total, tip,people)"
   ]
  },
  {
   "cell_type": "code",
   "execution_count": 7,
   "metadata": {},
   "outputs": [
    {
     "name": "stdout",
     "output_type": "stream",
     "text": [
      "0.15\n",
      "30.0\n",
      "$ 76.66666666666667\n"
     ]
    }
   ],
   "source": [
    "tip_calculator_2(200, 15,3)"
   ]
  },
  {
   "cell_type": "code",
   "execution_count": 8,
   "metadata": {},
   "outputs": [
    {
     "name": "stdout",
     "output_type": "stream",
     "text": [
      "0.3\n",
      "60.0\n",
      "$ 52.0\n"
     ]
    }
   ],
   "source": [
    "tip_calculator_2(200, 30,5)"
   ]
  },
  {
   "cell_type": "code",
   "execution_count": 9,
   "metadata": {},
   "outputs": [
    {
     "name": "stdout",
     "output_type": "stream",
     "text": [
      "2.0\n",
      "60.0\n",
      "$ 18.0\n"
     ]
    }
   ],
   "source": [
    "tip_calculator_2(30, 200,5)"
   ]
  },
  {
   "cell_type": "code",
   "execution_count": 10,
   "metadata": {
    "collapsed": true
   },
   "outputs": [],
   "source": [
    "def print_lyrics():  # Header, name of the function and inside () is the arguments \n",
    "    print (\"I'm a lumberjack, and I'm okay.\" )     # line 2-3 are body of this function\n",
    "    print (\"I sleep all night and I work all day.\")"
   ]
  },
  {
   "cell_type": "code",
   "execution_count": 11,
   "metadata": {},
   "outputs": [
    {
     "name": "stdout",
     "output_type": "stream",
     "text": [
      "I'm a lumberjack, and I'm okay.\n",
      "I sleep all night and I work all day.\n"
     ]
    }
   ],
   "source": [
    "print_lyrics()"
   ]
  },
  {
   "cell_type": "code",
   "execution_count": 12,
   "metadata": {
    "collapsed": true
   },
   "outputs": [],
   "source": [
    "def repeat_lyrics():  # Function can call another function.\n",
    "    print_lyrics() \n",
    "    print_lyrics()"
   ]
  },
  {
   "cell_type": "code",
   "execution_count": 13,
   "metadata": {},
   "outputs": [
    {
     "name": "stdout",
     "output_type": "stream",
     "text": [
      "I'm a lumberjack, and I'm okay.\n",
      "I sleep all night and I work all day.\n",
      "I'm a lumberjack, and I'm okay.\n",
      "I sleep all night and I work all day.\n"
     ]
    }
   ],
   "source": [
    "repeat_lyrics()"
   ]
  },
  {
   "cell_type": "code",
   "execution_count": 14,
   "metadata": {
    "collapsed": true
   },
   "outputs": [],
   "source": [
    "def print_twice(bruce): \n",
    "    print(bruce) \n",
    "    print(bruce)"
   ]
  },
  {
   "cell_type": "code",
   "execution_count": 15,
   "metadata": {},
   "outputs": [
    {
     "name": "stdout",
     "output_type": "stream",
     "text": [
      "17\n",
      "17\n"
     ]
    }
   ],
   "source": [
    "print_twice(17)"
   ]
  },
  {
   "cell_type": "code",
   "execution_count": 17,
   "metadata": {},
   "outputs": [
    {
     "name": "stdout",
     "output_type": "stream",
     "text": [
      "spam\n",
      "spam\n"
     ]
    }
   ],
   "source": [
    "spam='spam'\n",
    "print_twice(spam)"
   ]
  },
  {
   "cell_type": "code",
   "execution_count": 18,
   "metadata": {},
   "outputs": [
    {
     "name": "stdout",
     "output_type": "stream",
     "text": [
      "spam\n",
      "spam\n"
     ]
    }
   ],
   "source": [
    "print_twice('spam')"
   ]
  },
  {
   "cell_type": "code",
   "execution_count": 19,
   "metadata": {},
   "outputs": [
    {
     "name": "stdout",
     "output_type": "stream",
     "text": [
      "spamspamspamspam\n",
      "spamspamspamspam\n"
     ]
    }
   ],
   "source": [
    "print_twice('spam'*4)"
   ]
  },
  {
   "cell_type": "code",
   "execution_count": 20,
   "metadata": {
    "collapsed": true
   },
   "outputs": [],
   "source": [
    "def print_lyrics():  # Header, name of the function and inside () is the arguments \n",
    "    print (\"I'm a lumberjack, and I'm okay.\" )     # line 2-3 are body of this function\n",
    "    print (\"I sleep all night and I work all day.\")"
   ]
  },
  {
   "cell_type": "code",
   "execution_count": 21,
   "metadata": {},
   "outputs": [
    {
     "name": "stdout",
     "output_type": "stream",
     "text": [
      "I'm a lumberjack, and I'm okay.\n",
      "I sleep all night and I work all day.\n"
     ]
    }
   ],
   "source": [
    "\n",
    "\n",
    "print_lyrics()\n",
    "\n"
   ]
  },
  {
   "cell_type": "code",
   "execution_count": 22,
   "metadata": {
    "collapsed": true
   },
   "outputs": [],
   "source": [
    "\n",
    "\n",
    "def repeat_lyrics():  # Function can call another function.\n",
    "    print_lyrics() \n",
    "    print_lyrics()\n",
    "\n"
   ]
  },
  {
   "cell_type": "code",
   "execution_count": 23,
   "metadata": {},
   "outputs": [
    {
     "name": "stdout",
     "output_type": "stream",
     "text": [
      "I'm a lumberjack, and I'm okay.\n",
      "I sleep all night and I work all day.\n",
      "I'm a lumberjack, and I'm okay.\n",
      "I sleep all night and I work all day.\n"
     ]
    }
   ],
   "source": [
    "\n",
    "\n",
    "repeat_lyrics()\n",
    "\n"
   ]
  },
  {
   "cell_type": "code",
   "execution_count": null,
   "metadata": {
    "collapsed": true
   },
   "outputs": [],
   "source": [
    "def print_lyrics():print (“”)(“”)\n",
    "\n",
    "    \n"
   ]
  },
  {
   "cell_type": "code",
   "execution_count": 24,
   "metadata": {},
   "outputs": [
    {
     "name": "stdout",
     "output_type": "stream",
     "text": [
      "\n",
      "\n"
     ]
    }
   ],
   "source": [
    "def print_lyrics():\n",
    "    print(\"\")\n",
    "    print(\"\")\n",
    "print_lyrics()\n"
   ]
  },
  {
   "cell_type": "code",
   "execution_count": 25,
   "metadata": {},
   "outputs": [
    {
     "name": "stdout",
     "output_type": "stream",
     "text": [
      "a\n",
      "a\n"
     ]
    }
   ],
   "source": [
    "def print_lyrics():\n",
    "    print(\"a\")\n",
    "    print(\"a\")\n",
    "print_lyrics()"
   ]
  },
  {
   "cell_type": "code",
   "execution_count": null,
   "metadata": {
    "collapsed": true
   },
   "outputs": [],
   "source": []
  }
 ],
 "metadata": {
  "kernelspec": {
   "display_name": "Python 3",
   "language": "python",
   "name": "python3"
  },
  "language_info": {
   "codemirror_mode": {
    "name": "ipython",
    "version": 3
   },
   "file_extension": ".py",
   "mimetype": "text/x-python",
   "name": "python",
   "nbconvert_exporter": "python",
   "pygments_lexer": "ipython3",
   "version": "3.6.1"
  }
 },
 "nbformat": 4,
 "nbformat_minor": 2
}
