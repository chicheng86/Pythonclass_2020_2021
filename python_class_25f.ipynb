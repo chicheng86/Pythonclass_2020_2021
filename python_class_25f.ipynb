{
 "cells": [
  {
   "cell_type": "code",
   "execution_count": null,
   "metadata": {
    "collapsed": true
   },
   "outputs": [],
   "source": []
  },
  {
   "attachments": {
    "image.png": {
     "image/png": "[encoded data removed]"
    }
   },
   "cell_type": "markdown",
   "metadata": {},
   "source": [
    "![image.png](attachment:image.png)"
   ]
  },
  {
   "cell_type": "code",
   "execution_count": 35,
   "metadata": {},
   "outputs": [
    {
     "name": "stdout",
     "output_type": "stream",
     "text": [
      "{'a': 1, 'p': 2, 'l': 1, 'e': 1}\n"
     ]
    }
   ],
   "source": [
    "#apple # histogram of apple, how many times each letter appears.\n",
    "h_apple={}\n",
    "h_apple['a']=1\n",
    "\n",
    "h_apple['p']=1 #aPple\n",
    "h_apple['p']=2 #apPle\n",
    "h_apple['l']=1\n",
    "h_apple['e']=1\n",
    "print(h_apple)\n",
    "#('kjhsdfljsadkjfhekhweifjodskflsakdjflksadjflkdsagkajrlkajlkpqieur')"
   ]
  },
  {
   "cell_type": "code",
   "execution_count": 45,
   "metadata": {},
   "outputs": [
    {
     "name": "stdout",
     "output_type": "stream",
     "text": [
      "{'k': 10, 'j': 8, 'h': 3, 's': 6, 'd': 6, 'f': 6, 'l': 6, 'a': 6, 'e': 3, 'w': 1, 'i': 2, 'o': 1, 'g': 1, 'r': 2, 'p': 1, 'q': 1, 'u': 1}\n"
     ]
    }
   ],
   "source": [
    "def histogram_test(s):\n",
    "    d={} # key is letter, count is value\n",
    "    for letter in s:        \n",
    "        if letter not in d:\n",
    "            d[letter]=1            \n",
    "        else:\n",
    "            d[letter]=d[letter]+1\n",
    "    return d    #Don't forget to return !!! otherwise you get nothing !\n",
    "            \n",
    "s='kjhsdfljsadkjfhekhweifjodskflsakdjflksadjflkdsagkajrlkajlkpqieur'\n",
    "print(histogram_test(s))       \n",
    "    "
   ]
  },
  {
   "cell_type": "code",
   "execution_count": 3,
   "metadata": {
    "collapsed": true
   },
   "outputs": [],
   "source": [
    "def histogram(s):\n",
    "    d = dict()\n",
    "    for c in s:\n",
    "        if c not in d:\n",
    "            d[c] = 1\n",
    "        else:\n",
    "            d[c] += 1   # d[c]=d[c]+1\n",
    "    return d"
   ]
  },
  {
   "cell_type": "code",
   "execution_count": null,
   "metadata": {
    "collapsed": true
   },
   "outputs": [],
   "source": []
  },
  {
   "cell_type": "code",
   "execution_count": 4,
   "metadata": {
    "collapsed": true
   },
   "outputs": [],
   "source": [
    "Name=['Max','Felix','Alex','Vivan','Ethan','Justine','Troy']\n",
    "Cheeses=[3,2,5,6,7,3,2]\n",
    "Crackers=[4,5,6,7,3,5,7]"
   ]
  },
  {
   "cell_type": "code",
   "execution_count": 5,
   "metadata": {},
   "outputs": [
    {
     "data": {
      "text/plain": [
       "{2: 2, 3: 2, 5: 1, 6: 1, 7: 1}"
      ]
     },
     "execution_count": 5,
     "metadata": {},
     "output_type": "execute_result"
    }
   ],
   "source": [
    "histogram(Cheeses)"
   ]
  },
  {
   "cell_type": "code",
   "execution_count": 6,
   "metadata": {},
   "outputs": [
    {
     "data": {
      "text/plain": [
       "{'Alex': 1,\n",
       " 'Ethan': 1,\n",
       " 'Felix': 1,\n",
       " 'Justine': 1,\n",
       " 'Maxx': 1,\n",
       " 'Troy': 1,\n",
       " 'Vivan': 1}"
      ]
     },
     "execution_count": 6,
     "metadata": {},
     "output_type": "execute_result"
    }
   ],
   "source": [
    "histogram(Name)"
   ]
  },
  {
   "cell_type": "code",
   "execution_count": 46,
   "metadata": {},
   "outputs": [
    {
     "data": {
      "text/plain": [
       "{3: 1, 4: 1, 5: 2, 6: 1, 7: 2}"
      ]
     },
     "execution_count": 46,
     "metadata": {},
     "output_type": "execute_result"
    }
   ],
   "source": [
    "histogram(Crackers)"
   ]
  },
  {
   "cell_type": "code",
   "execution_count": 20,
   "metadata": {},
   "outputs": [
    {
     "name": "stdout",
     "output_type": "stream",
     "text": [
      "{'k': 2, 'j': 1, 'l': 1}\n"
     ]
    }
   ],
   "source": [
    "d=histogram('kjlk')\n",
    "print(d)"
   ]
  },
  {
   "cell_type": "markdown",
   "metadata": {},
   "source": [
    "11.4 Dictionaries and lists"
   ]
  },
  {
   "cell_type": "code",
   "execution_count": 17,
   "metadata": {
    "collapsed": true
   },
   "outputs": [],
   "source": [
    "def invert_dic(d):  # make the key of d to be the value of invert_d; make the value of the d to be the key\n",
    "    invert_d={}\n",
    "    for key in d:\n",
    "        if d[key]not in invert_d:\n",
    "            invert_d[d[key]]=[key]\n",
    "        else:\n",
    "            invert_d[d[key]].append(key)\n",
    "    return invert_d"
   ]
  },
  {
   "cell_type": "code",
   "execution_count": 47,
   "metadata": {},
   "outputs": [
    {
     "data": {
      "text/plain": [
       "{1: ['a', 'l', 'e'], 2: ['p']}"
      ]
     },
     "execution_count": 47,
     "metadata": {},
     "output_type": "execute_result"
    }
   ],
   "source": [
    "d={'a': 1, 'p': 2, 'l': 1, 'e': 1}\n",
    "invert_dic(d)"
   ]
  },
  {
   "cell_type": "code",
   "execution_count": 48,
   "metadata": {},
   "outputs": [
    {
     "ename": "TypeError",
     "evalue": "unhashable type: 'list'",
     "output_type": "error",
     "traceback": [
      "\u001b[1;31m---------------------------------------------------------------------------\u001b[0m",
      "\u001b[1;31mTypeError\u001b[0m                                 Traceback (most recent call last)",
      "\u001b[1;32m<ipython-input-48-07eefcd4458c>\u001b[0m in \u001b[0;36m<module>\u001b[1;34m()\u001b[0m\n\u001b[0;32m      1\u001b[0m \u001b[0md2\u001b[0m\u001b[1;33m=\u001b[0m\u001b[1;33m{\u001b[0m\u001b[1;33m}\u001b[0m\u001b[1;33m\u001b[0m\u001b[1;33m\u001b[0m\u001b[0m\n\u001b[0;32m      2\u001b[0m \u001b[0ml\u001b[0m\u001b[1;33m=\u001b[0m\u001b[1;33m[\u001b[0m\u001b[1;34m'a'\u001b[0m\u001b[1;33m,\u001b[0m \u001b[1;34m'l'\u001b[0m\u001b[1;33m,\u001b[0m \u001b[1;34m'e'\u001b[0m\u001b[1;33m]\u001b[0m\u001b[1;33m\u001b[0m\u001b[1;33m\u001b[0m\u001b[0m\n\u001b[1;32m----> 3\u001b[1;33m \u001b[0md2\u001b[0m\u001b[1;33m[\u001b[0m\u001b[0ml\u001b[0m\u001b[1;33m]\u001b[0m\u001b[1;33m=\u001b[0m\u001b[1;36m1\u001b[0m\u001b[1;33m\u001b[0m\u001b[1;33m\u001b[0m\u001b[0m\n\u001b[0m",
      "\u001b[1;31mTypeError\u001b[0m: unhashable type: 'list'"
     ]
    }
   ],
   "source": [
    "d2={}\n",
    "l=['a', 'l', 'e']\n",
    "d2[l]=1"
   ]
  },
  {
   "cell_type": "code",
   "execution_count": null,
   "metadata": {
    "collapsed": true
   },
   "outputs": [],
   "source": [
    "(Name,Foodtype)\n",
    "('Alex', 'Cheese')# this info is not mutable, means, I do not want to change the position."
   ]
  },
  {
   "cell_type": "code",
   "execution_count": 29,
   "metadata": {},
   "outputs": [
    {
     "name": "stdout",
     "output_type": "stream",
     "text": [
      "{('j', 'l'): 1}\n"
     ]
    }
   ],
   "source": [
    "d2={}\n",
    "t=('j', 'l')\n",
    "d2[t]=1\n",
    "print(d2)"
   ]
  },
  {
   "cell_type": "code",
   "execution_count": null,
   "metadata": {
    "collapsed": true
   },
   "outputs": [],
   "source": []
  }
 ],
 "metadata": {
  "kernelspec": {
   "display_name": "Python 3",
   "language": "python",
   "name": "python3"
  },
  "language_info": {
   "codemirror_mode": {
    "name": "ipython",
    "version": 3
   },
   "file_extension": ".py",
   "mimetype": "text/x-python",
   "name": "python",
   "nbconvert_exporter": "python",
   "pygments_lexer": "ipython3",
   "version": "3.6.11"
  }
 },
 "nbformat": 4,
 "nbformat_minor": 2
}
