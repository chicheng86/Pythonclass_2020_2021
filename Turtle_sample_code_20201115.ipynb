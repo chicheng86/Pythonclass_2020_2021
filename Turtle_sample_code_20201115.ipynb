{
 "cells": [
  {
   "cell_type": "code",
   "execution_count": 3,
   "metadata": {
    "collapsed": true
   },
   "outputs": [],
   "source": [
    "import turtle\n",
    "shelly=turtle.Turtle()\n",
    "shelly.shape('turtle')\n",
    "shelly.color('red')\n",
    "shelly.shapesize(1,0.5)"
   ]
  },
  {
   "cell_type": "code",
   "execution_count": 4,
   "metadata": {
    "collapsed": true
   },
   "outputs": [],
   "source": [
    "shelly.forward(100) # moves shelly foward 100 steps\n",
    "shelly.right(90) # move shelly right 90 degrees\n",
    "shelly.backward(100) # moves shelly backwards100 steps\n",
    "shelly.left(60)# move shelly left 60 degrees\n",
    "shelly.backward(100) # moves shelly backwards100 steps\n",
    "shelly.forward(50)"
   ]
  },
  {
   "cell_type": "code",
   "execution_count": null,
   "metadata": {
    "collapsed": true
   },
   "outputs": [],
   "source": []
  }
 ],
 "metadata": {
  "kernelspec": {
   "display_name": "Python 3",
   "language": "python",
   "name": "python3"
  },
  "language_info": {
   "codemirror_mode": {
    "name": "ipython",
    "version": 3
   },
   "file_extension": ".py",
   "mimetype": "text/x-python",
   "name": "python",
   "nbconvert_exporter": "python",
   "pygments_lexer": "ipython3",
   "version": "3.6.1"
  }
 },
 "nbformat": 4,
 "nbformat_minor": 2
}
