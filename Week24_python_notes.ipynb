{
 "cells": [
  {
   "cell_type": "markdown",
   "metadata": {},
   "source": [
    "Homework"
   ]
  },
  {
   "cell_type": "markdown",
   "metadata": {},
   "source": [
    "Write a function to create a dictionary based on this table.  Use name as the key and number of cheese as value.\n",
    "\n",
    "Hint1: Use for loop to traverse.\n",
    "\n",
    "Hint2: Use list index to correlate name and # of cheeses\n",
    "\n",
    "Extra credit: Return the person who bring most cheeses."
   ]
  },
  {
   "attachments": {
    "cheese_crakers.PNG": {
     "image/png": "[encoded data removed]"
    }
   },
   "cell_type": "markdown",
   "metadata": {},
   "source": [
    "![cheese_crakers.PNG](attachment:cheese_crakers.PNG)"
   ]
  },
  {
   "cell_type": "code",
   "execution_count": 11,
   "metadata": {
    "collapsed": true
   },
   "outputs": [],
   "source": [
    "Cheese=[3,2,5,6,7,3,2] # value\n",
    "Name=['Max','Felix','Alex','Vivan','Ethan','Justine','Troy'] # key to dic\n"
   ]
  },
  {
   "cell_type": "code",
   "execution_count": 22,
   "metadata": {},
   "outputs": [
    {
     "name": "stdout",
     "output_type": "stream",
     "text": [
      "Max\n",
      "Felix\n",
      "Alex\n",
      "Vivan\n",
      "Ethan\n",
      "Justine\n",
      "Troy\n"
     ]
    }
   ],
   "source": [
    "for item in Name: # item can be e, i, x\n",
    "    print (item)"
   ]
  },
  {
   "cell_type": "code",
   "execution_count": 26,
   "metadata": {},
   "outputs": [
    {
     "name": "stdout",
     "output_type": "stream",
     "text": [
      "Max\n",
      "Felix\n",
      "Alex\n",
      "Vivan\n",
      "Ethan\n",
      "Justine\n",
      "Troy\n"
     ]
    }
   ],
   "source": [
    "n=len(Name)\n",
    "for i in range(n):\n",
    "    print(Name[i])\n",
    "    #print(Name)"
   ]
  },
  {
   "cell_type": "code",
   "execution_count": 12,
   "metadata": {},
   "outputs": [
    {
     "name": "stdout",
     "output_type": "stream",
     "text": [
      "{'Max': 3, 'Felix': 2, 'Alex': 5, 'Vivan': 6, 'Ethan': 7, 'Justine': 3, 'Troy': 2}\n"
     ]
    }
   ],
   "source": [
    "# my version:\n",
    "cheese_dic={}\n",
    "n=len(Name)\n",
    "for i in range(n):\n",
    "    cheese_dic[Name[i]]=Cheese[i]\n",
    "    # Name[0]='max'\n",
    "    # Cheese[0]=3\n",
    "    # d[key]=value , max is key and value is 3.\n",
    "print(cheese_dic)"
   ]
  },
  {
   "cell_type": "code",
   "execution_count": null,
   "metadata": {
    "collapsed": true
   },
   "outputs": [],
   "source": []
  },
  {
   "cell_type": "code",
   "execution_count": 27,
   "metadata": {},
   "outputs": [
    {
     "name": "stdout",
     "output_type": "stream",
     "text": [
      "{'Max': 3, 'Felix': 2, 'Alex': 5, 'Vivan': 6, 'Ethan': 7, 'Justine': 3, 'Troy': 2}\n"
     ]
    }
   ],
   "source": [
    "# from Alex\n",
    "dic = {Name[i]: Cheese[i] for i in range (len(Name))}\n",
    "print(dic)"
   ]
  },
  {
   "cell_type": "code",
   "execution_count": null,
   "metadata": {
    "collapsed": true
   },
   "outputs": [],
   "source": []
  },
  {
   "cell_type": "code",
   "execution_count": 4,
   "metadata": {},
   "outputs": [
    {
     "name": "stdout",
     "output_type": "stream",
     "text": [
      "Ethan brought the most cheese\n",
      "The data: {'Max': 3, 'Felix': 2, 'Alex': 5, 'Vivian': 6, 'Ethan': 7, 'Justine': 3, 'Troy': 2}\n"
     ]
    }
   ],
   "source": [
    "# from Justine\n",
    "def dictmaker(keylist, valuelist):\n",
    "  if len(keylist) != len(valuelist):\n",
    "    return\n",
    "\n",
    "  d = {}\n",
    "  for i in range(0, len(keylist)):\n",
    "    d[keylist[i]] = valuelist[i]    \n",
    "\n",
    "  listmax = max(list(d.values()))\n",
    "\n",
    "  return d, list(d.keys())[list(d.values()).index(listmax)]\n",
    "\n",
    "cheese = [3,2,5,6,7,3,2]\n",
    "name = ['Max','Felix','Alex','Vivian','Ethan','Justine','Troy']\n",
    "\n",
    "d = dictmaker(name, cheese)\n",
    "print(f\"{d[1]} brought the most cheese\")\n",
    "print(f\"The data: {d[0]}\")"
   ]
  },
  {
   "cell_type": "markdown",
   "metadata": {},
   "source": [
    "Looping in a dictionary"
   ]
  },
  {
   "cell_type": "code",
   "execution_count": 14,
   "metadata": {},
   "outputs": [
    {
     "name": "stdout",
     "output_type": "stream",
     "text": [
      "Max\n",
      "Felix\n",
      "Alex\n",
      "Vivan\n",
      "Ethan\n",
      "Justine\n",
      "Troy\n"
     ]
    }
   ],
   "source": [
    "for key in cheese_dic.keys():\n",
    "    print(key)"
   ]
  },
  {
   "cell_type": "code",
   "execution_count": 15,
   "metadata": {},
   "outputs": [
    {
     "name": "stdout",
     "output_type": "stream",
     "text": [
      "3\n",
      "2\n",
      "5\n",
      "6\n",
      "7\n",
      "3\n",
      "2\n"
     ]
    }
   ],
   "source": [
    "for value in cheese_dic.values():\n",
    "    print(value)"
   ]
  },
  {
   "cell_type": "code",
   "execution_count": 16,
   "metadata": {},
   "outputs": [
    {
     "name": "stdout",
     "output_type": "stream",
     "text": [
      "Max\n",
      "Felix\n",
      "Alex\n",
      "Vivan\n",
      "Ethan\n",
      "Justine\n",
      "Troy\n"
     ]
    }
   ],
   "source": [
    "for i in cheese_dic:\n",
    "    print(i)"
   ]
  },
  {
   "cell_type": "code",
   "execution_count": null,
   "metadata": {
    "collapsed": true
   },
   "outputs": [],
   "source": [
    "#Reverse look up: find the key using value in the dictionary."
   ]
  },
  {
   "cell_type": "code",
   "execution_count": 28,
   "metadata": {},
   "outputs": [
    {
     "name": "stdout",
     "output_type": "stream",
     "text": [
      "Felix\n",
      "Troy\n"
     ]
    }
   ],
   "source": [
    "for key in cheese_dic.keys():\n",
    "    if cheese_dic[key]==2:\n",
    "        print(key)"
   ]
  },
  {
   "cell_type": "code",
   "execution_count": 55,
   "metadata": {
    "collapsed": true
   },
   "outputs": [],
   "source": [
    "def reverselookup(d,v):# we return the first person in the dic, who bring 2 pack of cheese\n",
    "    for key in d.keys():\n",
    "        if d[key]==v:\n",
    "            return key\n",
    "    raise ValueError\n",
    "    "
   ]
  },
  {
   "cell_type": "code",
   "execution_count": 56,
   "metadata": {},
   "outputs": [
    {
     "ename": "ValueError",
     "evalue": "",
     "output_type": "error",
     "traceback": [
      "\u001b[1;31m---------------------------------------------------------------------------\u001b[0m",
      "\u001b[1;31mValueError\u001b[0m                                Traceback (most recent call last)",
      "\u001b[1;32m<ipython-input-56-79073b95b7c7>\u001b[0m in \u001b[0;36m<module>\u001b[1;34m()\u001b[0m\n\u001b[1;32m----> 1\u001b[1;33m \u001b[0mreverselookup\u001b[0m\u001b[1;33m(\u001b[0m\u001b[0mcheese_dic\u001b[0m\u001b[1;33m,\u001b[0m\u001b[1;36m10\u001b[0m\u001b[1;33m)\u001b[0m\u001b[1;33m\u001b[0m\u001b[1;33m\u001b[0m\u001b[0m\n\u001b[0m",
      "\u001b[1;32m<ipython-input-55-9314ed1e29d8>\u001b[0m in \u001b[0;36mreverselookup\u001b[1;34m(d, v)\u001b[0m\n\u001b[0;32m      3\u001b[0m         \u001b[1;32mif\u001b[0m \u001b[0md\u001b[0m\u001b[1;33m[\u001b[0m\u001b[0mkey\u001b[0m\u001b[1;33m]\u001b[0m\u001b[1;33m==\u001b[0m\u001b[0mv\u001b[0m\u001b[1;33m:\u001b[0m\u001b[1;33m\u001b[0m\u001b[1;33m\u001b[0m\u001b[0m\n\u001b[0;32m      4\u001b[0m             \u001b[1;32mreturn\u001b[0m \u001b[0mkey\u001b[0m\u001b[1;33m\u001b[0m\u001b[1;33m\u001b[0m\u001b[0m\n\u001b[1;32m----> 5\u001b[1;33m     \u001b[1;32mraise\u001b[0m \u001b[0mValueError\u001b[0m\u001b[1;33m\u001b[0m\u001b[1;33m\u001b[0m\u001b[0m\n\u001b[0m\u001b[0;32m      6\u001b[0m \u001b[1;33m\u001b[0m\u001b[0m\n",
      "\u001b[1;31mValueError\u001b[0m: "
     ]
    }
   ],
   "source": [
    "reverselookup(cheese_dic,10)"
   ]
  },
  {
   "cell_type": "code",
   "execution_count": 44,
   "metadata": {
    "collapsed": true
   },
   "outputs": [],
   "source": [
    "def reverselookup_2(d,v): # we return the list of persons, who bring 2 pack of cheese.\n",
    "    l=[]\n",
    "    for key in d.keys():\n",
    "        if d[key]==v:\n",
    "            l.append(key)\n",
    "    return l"
   ]
  },
  {
   "cell_type": "code",
   "execution_count": 45,
   "metadata": {},
   "outputs": [
    {
     "data": {
      "text/plain": [
       "['Felix', 'Troy']"
      ]
     },
     "execution_count": 45,
     "metadata": {},
     "output_type": "execute_result"
    }
   ],
   "source": [
    "reverselookup_2(cheese_dic,2)"
   ]
  },
  {
   "cell_type": "code",
   "execution_count": null,
   "metadata": {
    "collapsed": true
   },
   "outputs": [],
   "source": []
  }
 ],
 "metadata": {
  "kernelspec": {
   "display_name": "Python 3",
   "language": "python",
   "name": "python3"
  },
  "language_info": {
   "codemirror_mode": {
    "name": "ipython",
    "version": 3
   },
   "file_extension": ".py",
   "mimetype": "text/x-python",
   "name": "python",
   "nbconvert_exporter": "python",
   "pygments_lexer": "ipython3",
   "version": "3.6.11"
  }
 },
 "nbformat": 4,
 "nbformat_minor": 2
}
