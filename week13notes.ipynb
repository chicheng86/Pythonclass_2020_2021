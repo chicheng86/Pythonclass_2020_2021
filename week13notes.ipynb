{
 "cells": [
  {
   "cell_type": "markdown",
   "metadata": {},
   "source": [
    "Chapter 5 Review: \n",
    "1. Boolean\n",
    "2. Python can combine True and False\n",
    "3. Condional statement.\n"
   ]
  },
  {
   "cell_type": "code",
   "execution_count": 1,
   "metadata": {},
   "outputs": [
    {
     "data": {
      "text/plain": [
       "False"
      ]
     },
     "execution_count": 1,
     "metadata": {},
     "output_type": "execute_result"
    }
   ],
   "source": [
    "True and True and True and False # if any boolean values is False and you connect them by 'and', YOU WILL GET Flase."
   ]
  },
  {
   "cell_type": "code",
   "execution_count": 2,
   "metadata": {},
   "outputs": [
    {
     "data": {
      "text/plain": [
       "True"
      ]
     },
     "execution_count": 2,
     "metadata": {},
     "output_type": "execute_result"
    }
   ],
   "source": [
    "False or False or False or False or True # if any boolean value is 'True' in a statement connected by 'or', you answer should be 'True'"
   ]
  },
  {
   "cell_type": "code",
   "execution_count": 3,
   "metadata": {},
   "outputs": [
    {
     "data": {
      "text/plain": [
       "True"
      ]
     },
     "execution_count": 3,
     "metadata": {},
     "output_type": "execute_result"
    }
   ],
   "source": [
    "False or False or True and True"
   ]
  },
  {
   "cell_type": "code",
   "execution_count": 4,
   "metadata": {},
   "outputs": [
    {
     "data": {
      "text/plain": [
       "True"
      ]
     },
     "execution_count": 4,
     "metadata": {},
     "output_type": "execute_result"
    }
   ],
   "source": [
    "not False"
   ]
  },
  {
   "cell_type": "code",
   "execution_count": 5,
   "metadata": {},
   "outputs": [
    {
     "data": {
      "text/plain": [
       "False"
      ]
     },
     "execution_count": 5,
     "metadata": {},
     "output_type": "execute_result"
    }
   ],
   "source": [
    "not True"
   ]
  },
  {
   "cell_type": "markdown",
   "metadata": {},
   "source": [
    "Home work review 1.1:\n",
    "Write code for following conditions: If the we know that it is Windy OR we know that it is Cold, then we we can decide to wear a jacket when going outside. We will take our jacket if it is Cold, Windy, or if it is both. Otherwise, print: I do not need jackets."
   ]
  },
  {
   "cell_type": "code",
   "execution_count": null,
   "metadata": {},
   "outputs": [
    {
     "name": "stdout",
     "output_type": "stream",
     "text": [
      "Is it windy today? If yes press one if no press two\n",
      "Is it windy today? If windy please type True, else please type False\n",
      ">TRUE\n",
      "It's windy so take a jacket\n"
     ]
    }
   ],
   "source": [
    "print(\"Is it windy today? If yes press one if no press two\") #(From Troy)\n",
    "\n",
    "X = input(\"Is it windy today? If windy please type True, else please type False\\n>\").lower()\n",
    "if (X == \"true\"):\n",
    "    print(\"It's windy so take a jacket\")\n",
    "else:\n",
    "    print(\"you don't need a jacket\")\n",
    "   \n",
    "Y = input(\"Is it cold today? If cold please type True, else please type False\\n>\").lower()\n",
    "if (Y == \"true\"):\n",
    "    print(\"It's cold so take a jacket\")\n",
    "else:\n",
    "    print(\"you don't need a jacket\")\n",
    "   \n",
    "if (X == \"true\" or Y == \"true\"):\n",
    "    print(\"You need a jacket, since it's windy or cold!\")\n",
    "else:\n",
    "    print(\"You don't need a jacket, since it's not windy nor cold!\")"
   ]
  },
  {
   "cell_type": "code",
   "execution_count": 8,
   "metadata": {},
   "outputs": [
    {
     "name": "stdout",
     "output_type": "stream",
     "text": [
      "I do not need jackets.\n"
     ]
    }
   ],
   "source": [
    "windy=False\n",
    "cold=False\n",
    "if windy or cold:\n",
    "    print('bring jacket !')\n",
    "else:\n",
    "    print('I do not need jackets.')"
   ]
  },
  {
   "cell_type": "markdown",
   "metadata": {},
   "source": [
    "Homework Review:\n",
    "1. 2.       Write a function for Human age calculator.\n",
    "Dog or Cat to Human age calculator.\n",
    "For Dogs:\n",
    "1st dog year =12 Human years\n",
    "2nd dog year=24 Human years\n",
    "Add 4 years for every year after that.\n",
    "So a 6 years dog would be 40 in human years.\n",
    "\n",
    "Cats:\n",
    "1st cat year=15 human years\n",
    "2nd cat year=24 human years\n",
    "Add four years for every year after that.\n",
    "So a 4 year old cat would be 32 in human years. \n",
    "\n",
    "you can also write a function for it, using animal type and age as arguments."
   ]
  },
  {
   "cell_type": "code",
   "execution_count": 1,
   "metadata": {
    "collapsed": true
   },
   "outputs": [],
   "source": [
    "def DogAgeCalc():\n",
    "    dogAge=input('How old is the dog? ')\n",
    "    dogAge=int(dogAge)\n",
    "    if dogAge==1:\n",
    "        print('Your dog is 12')\n",
    "    if dogAge==2:\n",
    "        print('Your dog is 24')\n",
    "    else:\n",
    "        finalDogAge=24+(dogAge-2)*4\n",
    "        print(\"Your Dog is \", finalDogAge, \" Years Old In Dog Years\")"
   ]
  },
  {
   "cell_type": "code",
   "execution_count": 2,
   "metadata": {},
   "outputs": [
    {
     "name": "stdout",
     "output_type": "stream",
     "text": [
      "How old is the dog? 6\n",
      "Your Dog is  40  Years Old In Dog Years\n"
     ]
    }
   ],
   "source": [
    "DogAgeCalc()"
   ]
  },
  {
   "cell_type": "code",
   "execution_count": 4,
   "metadata": {
    "collapsed": true
   },
   "outputs": [],
   "source": [
    "def CatAgeCalc():\n",
    "    catAge=input('How old is the Cat? ')\n",
    "    catAge=int(catAge)\n",
    "    if catAge==1:\n",
    "        print('Your cat is 15')\n",
    "    if catAge==2:\n",
    "        print('Your cat is 24')\n",
    "    else:\n",
    "        finalCatAge=24+(catAge-2)*4\n",
    "        print(\"Your cat is \", finalCatAge, \" Years Old In Cat Years\")"
   ]
  },
  {
   "cell_type": "code",
   "execution_count": 5,
   "metadata": {
    "collapsed": true
   },
   "outputs": [],
   "source": [
    "def PetAgeCalc():\n",
    "    pet=input('Do you have Cat or Dog?').lower()\n",
    "    if pet=='cat':\n",
    "        CatAgeCalc()\n",
    "    elif pet=='dog':\n",
    "        DogAgeCalc()\n",
    "    else:\n",
    "        print('I do not know!')\n",
    "        \n",
    "            \n",
    "        "
   ]
  },
  {
   "cell_type": "code",
   "execution_count": 6,
   "metadata": {},
   "outputs": [
    {
     "name": "stdout",
     "output_type": "stream",
     "text": [
      "Do you have Cat or Dog?cat\n",
      "How old is the Cat? 3\n",
      "Your cat is  28  Years Old In Cat Years\n"
     ]
    }
   ],
   "source": [
    "PetAgeCalc()"
   ]
  },
  {
   "cell_type": "code",
   "execution_count": null,
   "metadata": {},
   "outputs": [],
   "source": [
    "PetAgeCalc()\n"
   ]
  },
  {
   "cell_type": "markdown",
   "metadata": {},
   "source": [
    "It is legal for one function to call another; it is also legal for a function to call itself. "
   ]
  },
  {
   "cell_type": "code",
   "execution_count": 7,
   "metadata": {},
   "outputs": [],
   "source": [
    "def countdown(n): \n",
    "    if n <= 0: \n",
    "        print ('Blastoff!') \n",
    "    else: \n",
    "        print(n)\n",
    "        countdown(n-1)"
   ]
  },
  {
   "cell_type": "code",
   "execution_count": 8,
   "metadata": {},
   "outputs": [
    {
     "name": "stdout",
     "output_type": "stream",
     "text": [
      "Blastoff!\n"
     ]
    }
   ],
   "source": [
    "countdown(0)"
   ]
  },
  {
   "cell_type": "code",
   "execution_count": 9,
   "metadata": {},
   "outputs": [
    {
     "name": "stdout",
     "output_type": "stream",
     "text": [
      "3\n",
      "2\n",
      "1\n",
      "Blastoff!\n"
     ]
    }
   ],
   "source": [
    "countdown(3)"
   ]
  },
  {
   "cell_type": "code",
   "execution_count": null,
   "metadata": {
    "collapsed": true
   },
   "outputs": [],
   "source": [
    "def print_n(s, n): \n",
    "    if n <= 0: \n",
    "        return \n",
    "    print(s,n) \n",
    "    print_n(s, n-1) \n"
   ]
  },
  {
   "cell_type": "code",
   "execution_count": null,
   "metadata": {},
   "outputs": [],
   "source": [
    "print_n('hello',3)"
   ]
  },
  {
   "cell_type": "code",
   "execution_count": 10,
   "metadata": {
    "collapsed": true
   },
   "outputs": [],
   "source": [
    "def recurse(): \n",
    "    recurse()"
   ]
  },
  {
   "cell_type": "code",
   "execution_count": 11,
   "metadata": {},
   "outputs": [
    {
     "ename": "RecursionError",
     "evalue": "maximum recursion depth exceeded",
     "output_type": "error",
     "traceback": [
      "\u001b[1;31m---------------------------------------------------------------------------\u001b[0m",
      "\u001b[1;31mRecursionError\u001b[0m                            Traceback (most recent call last)",
      "\u001b[1;32m<ipython-input-11-13a35f29d084>\u001b[0m in \u001b[0;36m<module>\u001b[1;34m()\u001b[0m\n\u001b[1;32m----> 1\u001b[1;33m \u001b[0mrecurse\u001b[0m\u001b[1;33m(\u001b[0m\u001b[1;33m)\u001b[0m\u001b[1;33m\u001b[0m\u001b[1;33m\u001b[0m\u001b[0m\n\u001b[0m",
      "\u001b[1;32m<ipython-input-10-5df5e018e60d>\u001b[0m in \u001b[0;36mrecurse\u001b[1;34m()\u001b[0m\n\u001b[0;32m      1\u001b[0m \u001b[1;32mdef\u001b[0m \u001b[0mrecurse\u001b[0m\u001b[1;33m(\u001b[0m\u001b[1;33m)\u001b[0m\u001b[1;33m:\u001b[0m\u001b[1;33m\u001b[0m\u001b[1;33m\u001b[0m\u001b[0m\n\u001b[1;32m----> 2\u001b[1;33m     \u001b[0mrecurse\u001b[0m\u001b[1;33m(\u001b[0m\u001b[1;33m)\u001b[0m\u001b[1;33m\u001b[0m\u001b[1;33m\u001b[0m\u001b[0m\n\u001b[0m",
      "... last 1 frames repeated, from the frame below ...\n",
      "\u001b[1;32m<ipython-input-10-5df5e018e60d>\u001b[0m in \u001b[0;36mrecurse\u001b[1;34m()\u001b[0m\n\u001b[0;32m      1\u001b[0m \u001b[1;32mdef\u001b[0m \u001b[0mrecurse\u001b[0m\u001b[1;33m(\u001b[0m\u001b[1;33m)\u001b[0m\u001b[1;33m:\u001b[0m\u001b[1;33m\u001b[0m\u001b[1;33m\u001b[0m\u001b[0m\n\u001b[1;32m----> 2\u001b[1;33m     \u001b[0mrecurse\u001b[0m\u001b[1;33m(\u001b[0m\u001b[1;33m)\u001b[0m\u001b[1;33m\u001b[0m\u001b[1;33m\u001b[0m\u001b[0m\n\u001b[0m",
      "\u001b[1;31mRecursionError\u001b[0m: maximum recursion depth exceeded"
     ]
    }
   ],
   "source": [
    "recurse()"
   ]
  },
  {
   "cell_type": "code",
   "execution_count": null,
   "metadata": {
    "collapsed": true
   },
   "outputs": [],
   "source": []
  }
 ],
 "metadata": {
  "kernelspec": {
   "display_name": "Python 3",
   "language": "python",
   "name": "python3"
  },
  "language_info": {
   "codemirror_mode": {
    "name": "ipython",
    "version": 3
   },
   "file_extension": ".py",
   "mimetype": "text/x-python",
   "name": "python",
   "nbconvert_exporter": "python",
   "pygments_lexer": "ipython3",
   "version": "3.6.11"
  }
 },
 "nbformat": 4,
 "nbformat_minor": 2
}
