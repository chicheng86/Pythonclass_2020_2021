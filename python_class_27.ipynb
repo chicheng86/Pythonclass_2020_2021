{
 "cells": [
  {
   "cell_type": "code",
   "execution_count": 2,
   "metadata": {
    "collapsed": true
   },
   "outputs": [],
   "source": [
    "Cheese=[3,2,5,6,7,3,2]\n",
    "Crackers=[4,5,6,7,3,5,7]\n",
    "Name=['Max','Felix','Alex','Vivan','Ethan','Justine','Troy']"
   ]
  },
  {
   "cell_type": "markdown",
   "metadata": {},
   "source": [
    "Starting with those 3 lists,return  1) Return a list who brought more than 5 packs of Cheese. 2) Return the person who brought the most TOTAL NUMBER OF CHEESE AND CRACKERS.  Try to use ZIP to create the dictionary"
   ]
  },
  {
   "cell_type": "code",
   "execution_count": 9,
   "metadata": {},
   "outputs": [],
   "source": [
    "Name_Cheese=zip(Name,Cheese)"
   ]
  },
  {
   "cell_type": "code",
   "execution_count": 10,
   "metadata": {},
   "outputs": [
    {
     "name": "stdout",
     "output_type": "stream",
     "text": [
      "<zip object at 0x00000229C4643E88>\n"
     ]
    }
   ],
   "source": [
    "print(Name_Cheese)"
   ]
  },
  {
   "cell_type": "code",
   "execution_count": 11,
   "metadata": {},
   "outputs": [
    {
     "name": "stdout",
     "output_type": "stream",
     "text": [
      "[('Max', 3), ('Felix', 2), ('Alex', 5), ('Vivan', 6), ('Ethan', 7), ('Justine', 3), ('Troy', 2)]\n"
     ]
    }
   ],
   "source": [
    "print(list(Name_Cheese))"
   ]
  },
  {
   "cell_type": "code",
   "execution_count": 13,
   "metadata": {},
   "outputs": [
    {
     "name": "stdout",
     "output_type": "stream",
     "text": [
      "{'Max': 3, 'Felix': 2, 'Alex': 5, 'Vivan': 6, 'Ethan': 7, 'Justine': 3, 'Troy': 2}\n"
     ]
    }
   ],
   "source": [
    "print(dict(zip(Name,Cheese)))"
   ]
  },
  {
   "cell_type": "code",
   "execution_count": 15,
   "metadata": {},
   "outputs": [
    {
     "name": "stdout",
     "output_type": "stream",
     "text": [
      "['Vivan', 'Ethan']\n"
     ]
    }
   ],
   "source": [
    "Cheese_dic=dict(zip(Name,Cheese))\n",
    "res=[]\n",
    "for person in Cheese_dic: # Loop by key\n",
    "    if Cheese_dic[person]>5:\n",
    "        res.append(person)\n",
    "print(res)"
   ]
  },
  {
   "cell_type": "code",
   "execution_count": 22,
   "metadata": {},
   "outputs": [
    {
     "data": {
      "text/plain": [
       "['Vivan', 'Ethan']"
      ]
     },
     "execution_count": 22,
     "metadata": {},
     "output_type": "execute_result"
    }
   ],
   "source": [
    "def demo1(l1,l2,threshold):\n",
    "    d=dict(zip(l1,l2))\n",
    "    res=[]\n",
    "    for key in d: # Loop by key\n",
    "        if d[key]>threshold:\n",
    "            res.append(key)\n",
    "    return res\n",
    "demo1(Name,Cheese,5)\n",
    "    "
   ]
  },
  {
   "cell_type": "code",
   "execution_count": 24,
   "metadata": {},
   "outputs": [
    {
     "data": {
      "text/plain": [
       "['Vivan', 'Ethan']"
      ]
     },
     "execution_count": 24,
     "metadata": {},
     "output_type": "execute_result"
    }
   ],
   "source": [
    "def demo2(d,threshold):\n",
    "    res=[]\n",
    "    for key in d:\n",
    "        if d[key]>threshold:\n",
    "            res.append(key)\n",
    "    return res\n",
    "demo2(Cheese_dic,5)\n",
    "    "
   ]
  },
  {
   "cell_type": "code",
   "execution_count": 21,
   "metadata": {},
   "outputs": [
    {
     "name": "stdout",
     "output_type": "stream",
     "text": [
      "['Vivan', 'Ethan']\n"
     ]
    }
   ],
   "source": [
    "Cheese_dic=dict(zip(Name,Cheese))\n",
    "res=[]\n",
    "for person in Cheese_dic.keys():\n",
    "    if Cheese_dic[person]>5:\n",
    "        res.append(person)\n",
    "print(res)"
   ]
  },
  {
   "cell_type": "code",
   "execution_count": 19,
   "metadata": {},
   "outputs": [
    {
     "name": "stdout",
     "output_type": "stream",
     "text": [
      "3\n",
      "2\n",
      "5\n",
      "6\n",
      "7\n",
      "3\n",
      "2\n",
      "dict_values([3, 2, 5, 6, 7, 3, 2])\n"
     ]
    }
   ],
   "source": [
    "for value in Cheese_dic.values():\n",
    "    print(value)\n",
    "print(Cheese_dic.values())"
   ]
  },
  {
   "cell_type": "code",
   "execution_count": 27,
   "metadata": {},
   "outputs": [
    {
     "name": "stdout",
     "output_type": "stream",
     "text": [
      "{'Max': 7, 'Felix': 7, 'Alex': 11, 'Vivan': 13, 'Ethan': 10, 'Justine': 8, 'Troy': 9}\n",
      "Vivan\n"
     ]
    }
   ],
   "source": [
    "n=len(Name)\n",
    "d={}\n",
    "for i in range(n):\n",
    "    d[Name[i]]=Cheese[i]+Crackers[i]\n",
    "print(d)\n",
    "for person in d:\n",
    "    if d[person]==max(d.values()):\n",
    "        print(person)\n",
    "    "
   ]
  },
  {
   "cell_type": "code",
   "execution_count": null,
   "metadata": {
    "collapsed": true
   },
   "outputs": [],
   "source": []
  }
 ],
 "metadata": {
  "kernelspec": {
   "display_name": "Python 3",
   "language": "python",
   "name": "python3"
  },
  "language_info": {
   "codemirror_mode": {
    "name": "ipython",
    "version": 3
   },
   "file_extension": ".py",
   "mimetype": "text/x-python",
   "name": "python",
   "nbconvert_exporter": "python",
   "pygments_lexer": "ipython3",
   "version": "3.6.11"
  }
 },
 "nbformat": 4,
 "nbformat_minor": 2
}
