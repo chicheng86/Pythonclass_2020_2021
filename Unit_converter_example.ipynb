{
 "cells": [
  {
   "cell_type": "code",
   "execution_count": 4,
   "metadata": {},
   "outputs": [
    {
     "name": "stdout",
     "output_type": "stream",
     "text": [
      "What kind of data do you want to convert? The 3 valid choices are length (1), weight (2), and temperature (3). Please input the number next to your choice.1\n",
      "Are you converting from inches to centimeters (1), or centimeters to inches (2)? Please input the number below that matches your choice.1\n",
      "Please input the inches value you want to convert to centimeters.3\n",
      "1.1811023622047243\n"
     ]
    }
   ],
   "source": [
    "def unitconverter():\n",
    "    choice = int(input(\"What kind of data do you want to convert? The 3 valid choices are length (1), weight (2), and temperature (3). Please input the number next to your choice.\"))\n",
    "    if choice == 1:\n",
    "        lengthchoice = int(input(\"Are you converting from inches to centimeters (1), or centimeters to inches (2)? Please input the number below that matches your choice.\"))\n",
    "        if lengthchoice == 1:\n",
    "            lengthnumber = int(input(\"Please input the inches value you want to convert to centimeters.\"))\n",
    "            print(lengthnumber / 2.54)\n",
    "        elif lengthchoice == 2:\n",
    "            lengthnumber = int(input(\"Please input the centimeters value you want to convert to inches.\"))\n",
    "            print(lengthnumber * 2.54)\n",
    "        else:\n",
    "            print(\"Invalid option, sorry.\")\n",
    "    elif choice == 2:\n",
    "        weightchoice = int(input(\"Are you converting from pounds to kilograms (1), or kilograms to pounds (2)? Please input the number below that matches your choice.\"))\n",
    "        if weightchoice == 1:\n",
    "            weightnumber = int(input(\"Please input the pounds value you want to convert to kilograms.\"))\n",
    "            print(weightnumber / 2.205)\n",
    "        elif weightchoice ==2:\n",
    "            weightnumber = int(input(\"Please input the kilograms value you want to convert to pounds.\"))\n",
    "            print(weightnumber * 2.205)\n",
    "        else:\n",
    "            print(\"Invalid option, sorry.\")\n",
    "    elif choice == 3:\n",
    "        tempchoice = int(input(\"Are you converting from Fahrenheit to Celsius (1), or Celsius to Fahrenheit (2)? Please input the number below that matches your choice.\"))\n",
    "        if tempchoice == 1:\n",
    "            tempnumber = int(input(\"Please input the Fahrenheit value you want to convert to Celsius.\"))\n",
    "            print((tempnumber - 32) * 5 / 9)\n",
    "        elif tempchoice ==2:\n",
    "            tempnumber = int(input(\"Please input the Celsius value you want to convert to Fahrenheit.\"))\n",
    "            print(tempnumber * 9 / 5  + 32)\n",
    "        else:\n",
    "            print(\"Invalid option, sorry.\")\n",
    "    else:\n",
    "        print(\"Invalid choice\")\n",
    "        \n",
    "unitconverter()"
   ]
  },
  {
   "cell_type": "code",
   "execution_count": null,
   "metadata": {
    "collapsed": true
   },
   "outputs": [],
   "source": []
  },
  {
   "cell_type": "code",
   "execution_count": 2,
   "metadata": {
    "collapsed": true
   },
   "outputs": [],
   "source": [
    "def inches_to_cm():\n",
    "    lengthnumber = int(input(\"Please input the inches value you want to convert to centimeters.\"))\n",
    "    print(lengthnumber / 2.54)\n",
    "def cm_to_inches():\n",
    "    lengthnumber = int(input(\"Please input the centimeters value you want to convert to inches.\"))\n",
    "    print(lengthnumber * 2.54)\n",
    "def pounds_to_kilograms():\n",
    "    weightnumber = int(input(\"Please input the pounds value you want to convert to kilograms.\"))\n",
    "    print(weightnumber / 2.205)\n",
    "def kilograms_to_pounds():\n",
    "    weightnumber = int(input(\"Please input the kilograms value you want to convert to pounds.\"))\n",
    "    print(weightnumber * 2.205)\n",
    "def Fahrenheit_to_Celsius():\n",
    "    tempnumber = int(input(\"Please input the Fahrenheit value you want to convert to Celsius.\"))\n",
    "    print((tempnumber - 32) * 5 / 9)\n",
    "def Celsius_to_Fahrenheit():\n",
    "    tempnumber = int(input(\"Please input the Celsius value you want to convert to Fahrenheit.\"))\n",
    "    print(tempnumber * 9 / 5  + 32)\n",
    "    "
   ]
  },
  {
   "cell_type": "code",
   "execution_count": 1,
   "metadata": {
    "collapsed": true
   },
   "outputs": [],
   "source": [
    "def unitconverter():\n",
    "    choice = int(input(\"What kind of data do you want to convert? The 3 valid choices are length (1), weight (2), and temperature (3). Please input the number next to your choice.\"))\n",
    "    if choice == 1:\n",
    "        lengthchoice = int(input(\"Are you converting from inches to centimeters (1), or centimeters to inches (2)? Please input the number below that matches your choice.\"))\n",
    "        if lengthchoice == 1:\n",
    "            inches_to_cm()            \n",
    "        elif lengthchoice == 2:\n",
    "            cm_to_inches()\n",
    "        else:\n",
    "            print(\"Invalid option, sorry.\")\n",
    "    elif choice == 2:\n",
    "        weightchoice = int(input(\"Are you converting from pounds to kilograms (1), or kilograms to pounds (2)? Please input the number below that matches your choice.\"))\n",
    "        if weightchoice == 1:\n",
    "            pounds_to_kilograms()            \n",
    "        elif weightchoice ==2:\n",
    "            kilograms_to_pounds()\n",
    "        else:\n",
    "            print(\"Invalid option, sorry.\")\n",
    "    elif choice == 3:\n",
    "        tempchoice = int(input(\"Are you converting from Fahrenheit to Celsius (1), or Celsius to Fahrenheit (2)? Please input the number below that matches your choice.\"))\n",
    "        if tempchoice == 1:\n",
    "            Fahrenheit_to_Celsius()\n",
    "        elif tempchoice ==2:\n",
    "            Celsius_to_Fahrenheit()            \n",
    "        else:\n",
    "            print(\"Invalid option, sorry.\")\n",
    "    else:\n",
    "        print(\"Invalid choice\")"
   ]
  },
  {
   "cell_type": "code",
   "execution_count": 3,
   "metadata": {},
   "outputs": [
    {
     "name": "stdout",
     "output_type": "stream",
     "text": [
      "What kind of data do you want to convert? The 3 valid choices are length (1), weight (2), and temperature (3). Please input the number next to your choice.1\n",
      "Are you converting from inches to centimeters (1), or centimeters to inches (2)? Please input the number below that matches your choice.1\n",
      "Please input the inches value you want to convert to centimeters.30\n",
      "11.811023622047244\n"
     ]
    }
   ],
   "source": [
    "unitconverter()"
   ]
  },
  {
   "cell_type": "code",
   "execution_count": null,
   "metadata": {
    "collapsed": true
   },
   "outputs": [],
   "source": []
  }
 ],
 "metadata": {
  "kernelspec": {
   "display_name": "Python 3",
   "language": "python",
   "name": "python3"
  },
  "language_info": {
   "codemirror_mode": {
    "name": "ipython",
    "version": 3
   },
   "file_extension": ".py",
   "mimetype": "text/x-python",
   "name": "python",
   "nbconvert_exporter": "python",
   "pygments_lexer": "ipython3",
   "version": "3.6.1"
  }
 },
 "nbformat": 4,
 "nbformat_minor": 2
}
